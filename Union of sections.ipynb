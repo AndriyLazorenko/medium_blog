{
 "cells": [
  {
   "cell_type": "code",
   "execution_count": 50,
   "metadata": {},
   "outputs": [],
   "source": [
    "def unite_pair(pair):\n",
    "    if pair[0][0] <= pair[1][0] <= pair[0][1]:\n",
    "        if pair[0][1] > pair[1][1]:\n",
    "            return pair[0]\n",
    "        elif pair[0][1] <= pair[1][1]:\n",
    "            return [pair[0][0], pair[1][1]]\n",
    "    elif pair[1][0] <= pair[0][0] <= pair[1][1]:\n",
    "        if pair[1][1] > pair[0][1]:\n",
    "            return pair[1]\n",
    "        elif pair[1][1] <= pair[0][1]:\n",
    "            return [pair[1][0], pair[0][1]]"
   ]
  },
  {
   "cell_type": "code",
   "execution_count": 51,
   "metadata": {},
   "outputs": [
    {
     "name": "stdout",
     "output_type": "stream",
     "text": [
      "Test case:[[1, 5], [3, 7]], expected: [1, 7], received: [1, 7]\n",
      "Test ok\n",
      "Test case:[[1, 10], [3, 7]], expected: [1, 10], received: [1, 10]\n",
      "Test ok\n",
      "Test case:[[3, 10], [1, 5]], expected: [1, 10], received: [1, 10]\n",
      "Test ok\n",
      "Test case:[[1, 10], [11, 20]], expected: [[1, 10], [11, 20]], received: None\n",
      "Test failed\n",
      "Test case:[[1, 10], [10, 20]], expected: [1, 20], received: [1, 20]\n",
      "Test ok\n"
     ]
    }
   ],
   "source": [
    "test_1 = [[1,5], [3,7]]\n",
    "test_2 = [[1,10], [3,7]]\n",
    "test_3 = [[3,10], [1,5]]\n",
    "test_4 = [[1,10], [11,20]]\n",
    "test_5 = [[1,10], [10,20]]\n",
    "test_list = [test_1, test_2, test_3, test_4, test_5]\n",
    "expected = [[1,7],[1,10],[1,10],[[1,10],[11,20]], [1,20]]\n",
    "for i, el in enumerate(test_list):\n",
    "    pair = [el[0], el[1]]\n",
    "    received = unite_pair(pair)\n",
    "    print(f\"Test case:{pair}, expected: {expected[i]}, received: {received}\")\n",
    "    try:\n",
    "        assert received == expected[i] \n",
    "        print(\"Test ok\")\n",
    "    except AssertionError as err:\n",
    "        print(\"Test failed\")"
   ]
  },
  {
   "cell_type": "code",
   "execution_count": 49,
   "metadata": {},
   "outputs": [
    {
     "name": "stdout",
     "output_type": "stream",
     "text": [
      "Test case:[[1, 5], [3, 7]], expected: [1, 7], received: [1, 7]\n",
      "Test ok\n",
      "Test case:[[1, 10], [3, 7]], expected: [1, 10], received: [1, 10]\n",
      "Test ok\n",
      "Test case:[[3, 10], [1, 5]], expected: [1, 10], received: [1, 10]\n",
      "Test ok\n",
      "Test case:[[1, 10], [11, 20]], expected: [[1, 10], [11, 20]], received: [[1, 10], [11, 20]]\n",
      "Test ok\n",
      "Test case:[[1, 10], [10, 20]], expected: [1, 20], received: [1, 20]\n",
      "Test ok\n"
     ]
    }
   ],
   "source": [
    "def unite_pair(pair):\n",
    "    if pair[0][0] <= pair[1][0] <= pair[0][1]:\n",
    "        if pair[0][1] > pair[1][1]:\n",
    "            return pair[0]\n",
    "        elif pair[0][1] <= pair[1][1]:\n",
    "            return [pair[0][0], pair[1][1]]\n",
    "    elif pair[1][0] <= pair[0][0] <= pair[1][1]:\n",
    "        if pair[1][1] > pair[0][1]:\n",
    "            return pair[1]\n",
    "        elif pair[1][1] <= pair[0][1]:\n",
    "            return [pair[1][0], pair[0][1]]\n",
    "    else:\n",
    "        return pair"
   ]
  },
  {
   "cell_type": "code",
   "execution_count": 52,
   "metadata": {},
   "outputs": [],
   "source": [
    "def unite_pair(pair):\n",
    "    if pair[0][0] <= pair[1][0] <= pair[0][1]:\n",
    "        if pair[0][1] > pair[1][1]:\n",
    "            return pair[0]\n",
    "        elif pair[0][1] <= pair[1][1]:\n",
    "            return [pair[0][0], pair[1][1]]\n",
    "    else:\n",
    "        return pair"
   ]
  },
  {
   "cell_type": "code",
   "execution_count": 77,
   "metadata": {},
   "outputs": [],
   "source": [
    "def union_of_sections(sections):\n",
    "    sections = sorted(sections)\n",
    "    for_ret = list()\n",
    "    while len(sections) > 1:\n",
    "        one = sections.pop(0)\n",
    "        two = sections.pop(0)\n",
    "        pair = [one, two]\n",
    "        united_pair = unite_pair(pair)\n",
    "        try:\n",
    "            len(united_pair[0])\n",
    "            for_ret.append(united_pair[0])\n",
    "            sections = [two] + sections\n",
    "        except TypeError as err:\n",
    "            sections = [united_pair] + sections\n",
    "    for_ret.extend(sections)\n",
    "    return for_ret"
   ]
  },
  {
   "cell_type": "code",
   "execution_count": 79,
   "metadata": {},
   "outputs": [
    {
     "name": "stdout",
     "output_type": "stream",
     "text": [
      "Test case:0, expected: [[1, 20]], received: [[1, 20]]\n",
      "Test ok\n",
      "Test case:1, expected: [[1, 10], [11, 20]], received: [[1, 10], [11, 20]]\n",
      "Test ok\n",
      "Test case:2, expected: [[1, 5], [6, 9], [10, 12]], received: [[1, 5], [6, 9], [10, 12]]\n",
      "Test ok\n"
     ]
    }
   ],
   "source": [
    "united_test_1 = [el for test_case in test_list for el in test_case]\n",
    "test_6 = [[1,5], [6,9], [10,12]]\n",
    "test_list = [united_test_1, test_4, test_6]\n",
    "expected = [[[1,20]],[[1,10],[11,20]], test_6]\n",
    "for i, el in enumerate(test_list):\n",
    "    received = union_of_sections(el)\n",
    "    print(f\"Test case:{i}, expected: {expected[i]}, received: {received}\")\n",
    "    try:\n",
    "        assert received == expected[i] \n",
    "        print(\"Test ok\")\n",
    "    except AssertionError as err:\n",
    "        print(\"Test failed\")"
   ]
  },
  {
   "cell_type": "code",
   "execution_count": null,
   "metadata": {},
   "outputs": [],
   "source": []
  }
 ],
 "metadata": {
  "kernelspec": {
   "display_name": "Python 3",
   "language": "python",
   "name": "python3"
  },
  "language_info": {
   "codemirror_mode": {
    "name": "ipython",
    "version": 3
   },
   "file_extension": ".py",
   "mimetype": "text/x-python",
   "name": "python",
   "nbconvert_exporter": "python",
   "pygments_lexer": "ipython3",
   "version": "3.6.4"
  }
 },
 "nbformat": 4,
 "nbformat_minor": 2
}
