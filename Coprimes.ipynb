{
 "cells": [
  {
   "cell_type": "code",
   "execution_count": 1,
   "metadata": {},
   "outputs": [],
   "source": [
    "import math\n",
    "import numpy as np\n",
    "from sympy import primefactors"
   ]
  },
  {
   "cell_type": "code",
   "execution_count": null,
   "metadata": {},
   "outputs": [],
   "source": [
    "a =[5,8,14]\n",
    "\n",
    "def coprimes(a):\n",
    "    return sum([math.gcd(a,el) == 1 for el in range(a)])\n",
    "\n",
    "def cnt_coprimes_in_array(arr):\n",
    "    return [coprimes(el) for el in arr]\n",
    "\n",
    "cnt_coprimes_in_array(a)"
   ]
  },
  {
   "cell_type": "code",
   "execution_count": null,
   "metadata": {},
   "outputs": [],
   "source": [
    "ten_thousand = int(1E4)\n",
    "a =[np.random.randint(ten_thousand) for i in range(ten_thousand)]\n",
    "a"
   ]
  },
  {
   "cell_type": "code",
   "execution_count": null,
   "metadata": {},
   "outputs": [],
   "source": [
    "def coprimes_2(a):\n",
    "    p_f = primefactors(a)\n",
    "    ar = [(1-1/el) for el in p_f]\n",
    "    num_coprimes = int(np.prod(ar) * a)\n",
    "    return num_coprimes"
   ]
  },
  {
   "cell_type": "code",
   "execution_count": null,
   "metadata": {},
   "outputs": [],
   "source": [
    "assert coprimes_2(1504) == coprimes(1504)"
   ]
  },
  {
   "cell_type": "code",
   "execution_count": null,
   "metadata": {},
   "outputs": [],
   "source": [
    "def cnt_coprimes_in_array_2(arr):\n",
    "    return [coprimes_2(el) for el in arr]"
   ]
  },
  {
   "cell_type": "code",
   "execution_count": null,
   "metadata": {},
   "outputs": [],
   "source": [
    "%%timeit\n",
    "cnt_coprimes_in_array(a)"
   ]
  },
  {
   "cell_type": "code",
   "execution_count": null,
   "metadata": {},
   "outputs": [],
   "source": [
    "%%timeit\n",
    "cnt_coprimes_in_array_2(a)"
   ]
  }
 ],
 "metadata": {
  "kernelspec": {
   "display_name": "Python 3",
   "language": "python",
   "name": "python3"
  },
  "language_info": {
   "codemirror_mode": {
    "name": "ipython",
    "version": 3
   },
   "file_extension": ".py",
   "mimetype": "text/x-python",
   "name": "python",
   "nbconvert_exporter": "python",
   "pygments_lexer": "ipython3",
   "version": "3.6.4"
  }
 },
 "nbformat": 4,
 "nbformat_minor": 2
}
